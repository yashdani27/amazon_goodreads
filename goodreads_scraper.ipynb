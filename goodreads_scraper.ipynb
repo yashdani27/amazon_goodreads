{
 "cells": [
  {
   "cell_type": "code",
   "execution_count": 1,
   "id": "8dcb797f",
   "metadata": {},
   "outputs": [],
   "source": [
    "import requests\n",
    "from bs4 import BeautifulSoup\n",
    "import pprint"
   ]
  },
  {
   "cell_type": "code",
   "execution_count": 2,
   "id": "e1044d1a",
   "metadata": {},
   "outputs": [],
   "source": [
    "book_details = {\n",
    "    'book': 'shoe dog',\n",
    "    'author': 'phil knight'\n",
    "}\n",
    "\n",
    "pp = pprint.PrettyPrinter(indent=4)"
   ]
  },
  {
   "cell_type": "code",
   "execution_count": 3,
   "id": "e0ddf634",
   "metadata": {},
   "outputs": [],
   "source": [
    "def prepare_url_goodreads(dict_book_details):\n",
    "    return f'https://www.goodreads.com/search?q=' + dict_book_details['book'] + ' ' + dict_book_details['author']"
   ]
  },
  {
   "cell_type": "code",
   "execution_count": 4,
   "id": "e56ccc75",
   "metadata": {},
   "outputs": [],
   "source": [
    "def get_goodreads_html():\n",
    "    headers = {\n",
    "        \"User-Agent\": \"Mozilla/5.0 (X11; Linux x86_64) AppleWebKit/537.36 (KHTML, like Gecko) Chrome/88.0.4324.96 \"\n",
    "                      \"Safari/537.36\"\n",
    "    }\n",
    "    return requests.get(prepare_url_goodreads(dict_book_details=book_details), headers=headers).text"
   ]
  },
  {
   "cell_type": "code",
   "execution_count": 5,
   "id": "fc4f9658",
   "metadata": {},
   "outputs": [],
   "source": [
    "def get_data_from_goodreads_html(response):\n",
    "    soup = BeautifulSoup(response, 'lxml')\n",
    "\n",
    "    relevant_matches = []\n",
    "    rows = soup.find_all('tr')\n",
    "    for row in rows:\n",
    "        title = row.find('span').text\n",
    "        rating = row.find(class_=\"minirating\").text\n",
    "        author = row.find(class_=\"authorName\").find('span').text\n",
    "        if author.lower() == book_details['author']:\n",
    "            relevant_matches.append({\n",
    "                'title': title,\n",
    "                'author': author,\n",
    "                'rating': rating\n",
    "            })\n",
    "    return relevant_matches"
   ]
  },
  {
   "cell_type": "code",
   "execution_count": 6,
   "id": "a4163965",
   "metadata": {},
   "outputs": [],
   "source": [
    "data_goodreads = get_data_from_goodreads_html(get_goodreads_html())"
   ]
  },
  {
   "cell_type": "code",
   "execution_count": 7,
   "id": "51d14a62",
   "metadata": {},
   "outputs": [
    {
     "name": "stdout",
     "output_type": "stream",
     "text": [
      "[   {   'author': 'Phil Knight',\n",
      "        'rating': ' 4.47 avg rating — 221,060 ratings',\n",
      "        'title': 'Shoe Dog: A Memoir by the Creator of Nike'},\n",
      "    {   'author': 'Phil Knight',\n",
      "        'rating': ' 4.22 avg rating — 1,212 ratings',\n",
      "        'title': 'Shoe Dog: Young Readers Edition'}]\n"
     ]
    }
   ],
   "source": [
    "pp.pprint(data_goodreads)"
   ]
  }
 ],
 "metadata": {
  "kernelspec": {
   "display_name": "Python 3 (ipykernel)",
   "language": "python",
   "name": "python3"
  },
  "language_info": {
   "codemirror_mode": {
    "name": "ipython",
    "version": 3
   },
   "file_extension": ".py",
   "mimetype": "text/x-python",
   "name": "python",
   "nbconvert_exporter": "python",
   "pygments_lexer": "ipython3",
   "version": "3.9.7"
  }
 },
 "nbformat": 4,
 "nbformat_minor": 5
}
