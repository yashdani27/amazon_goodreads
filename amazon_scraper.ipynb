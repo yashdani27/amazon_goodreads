{
 "cells": [
  {
   "cell_type": "code",
   "execution_count": 1,
   "id": "b14ec95a",
   "metadata": {},
   "outputs": [],
   "source": [
    "import requests\n",
    "from bs4 import BeautifulSoup\n",
    "import Constants\n",
    "from Constants import classes_amazon\n",
    "import pprint"
   ]
  },
  {
   "cell_type": "code",
   "execution_count": 2,
   "id": "35ff3aa1",
   "metadata": {},
   "outputs": [],
   "source": [
    "book_details = {\n",
    "    'book': 'shoe dog',\n",
    "    'author': 'phil knight'\n",
    "}\n",
    "pp = pprint.PrettyPrinter(indent=4)"
   ]
  },
  {
   "cell_type": "code",
   "execution_count": 3,
   "id": "b7354890",
   "metadata": {},
   "outputs": [],
   "source": [
    "def prepare_url_amazon(dict_book_details):\n",
    "    return f'https://www.amazon.in/s?k=' + dict_book_details['book'] + ' book'"
   ]
  },
  {
   "cell_type": "code",
   "execution_count": 4,
   "id": "936bf6ac",
   "metadata": {},
   "outputs": [],
   "source": [
    "def get_amazon_html():\n",
    "    headers = {\n",
    "        \"User-Agent\": \"Mozilla/5.0 (X11; Linux x86_64) AppleWebKit/537.36 (KHTML, like Gecko) Chrome/88.0.4324.96 \"\n",
    "                      \"Safari/537.36\"\n",
    "    }\n",
    "    return requests.get(prepare_url_amazon(dict_book_details=book_details), headers=headers).text"
   ]
  },
  {
   "cell_type": "code",
   "execution_count": 5,
   "id": "d1f275f2",
   "metadata": {},
   "outputs": [],
   "source": [
    "def get_data_from_amazon_html(response):\n",
    "    soup = BeautifulSoup(response, 'lxml')\n",
    "\n",
    "    results = soup.find_all('div', {'class': classes_amazon[Constants.ROOT]})\n",
    "    relevant_matches = []\n",
    "    for index, result in enumerate(results):\n",
    "        dictionary = {}\n",
    "\n",
    "        # fetch product title\n",
    "        book_title = result.find(class_=classes_amazon[Constants.BOOK_TITLE]).text\n",
    "\n",
    "        # fetch author\n",
    "        author_exists = result.find(class_=classes_amazon[Constants.AUTHOR])\n",
    "        if author_exists:\n",
    "            author = author_exists.text\n",
    "            if author.lower() == book_details[Constants.AUTHOR]:\n",
    "                dictionary[Constants.AUTHOR] = author\n",
    "                dictionary[Constants.BOOK_TITLE] = book_title\n",
    "\n",
    "                # fetch rating\n",
    "                rating_exists = result.find(class_=classes_amazon[Constants.RATING])\n",
    "                if rating_exists:\n",
    "                    rating_book_reviews = rating_exists.text\n",
    "                    dictionary[Constants.RATING] = rating_book_reviews\n",
    "\n",
    "                # fetch number of reviews\n",
    "                numReviews_exists = result.find(class_=classes_amazon[Constants.NUM_REVIEWS])\n",
    "                if numReviews_exists:\n",
    "                    num_book_reviews = numReviews_exists.text\n",
    "                    dictionary[Constants.NUM_REVIEWS] = num_book_reviews\n",
    "\n",
    "                # fetch prices\n",
    "                discPrice_exists = result.find(class_=classes_amazon[Constants.PRICE][0])\n",
    "                if discPrice_exists:\n",
    "                    dictionary[Constants.DISC_PRICE] = discPrice_exists.find(\n",
    "                        class_=classes_amazon[Constants.PRICE][1]).text[1:]\n",
    "\n",
    "                    if len(discPrice_exists.find_all(class_=classes_amazon[Constants.PRICE])) > 1:\n",
    "                        dictionary[Constants.OG_PRICE] = \\\n",
    "                        discPrice_exists.find_all(class_=classes_amazon[Constants.PRICE])[1].text[1:]\n",
    "\n",
    "                # fetch prime availability\n",
    "                prime_exists = result.find(class_=classes_amazon[Constants.PRIME])\n",
    "                if prime_exists:\n",
    "                    dictionary[Constants.PRIME] = 'yes'\n",
    "                relevant_matches.append(dictionary)\n",
    "    return relevant_matches"
   ]
  },
  {
   "cell_type": "code",
   "execution_count": 6,
   "id": "fd321927",
   "metadata": {},
   "outputs": [],
   "source": [
    "data_amazon = get_data_from_amazon_html(get_amazon_html())"
   ]
  },
  {
   "cell_type": "code",
   "execution_count": 7,
   "id": "ba0ceb05",
   "metadata": {},
   "outputs": [
    {
     "name": "stdout",
     "output_type": "stream",
     "text": [
      "[   {   'author': 'Phil Knight',\n",
      "        'bookTitle': 'Shoe Dog: A Memoir by the Creator of Nike',\n",
      "        'discPrice': '1,849',\n",
      "        'numReviews': '21,445',\n",
      "        'ogPrice': '1,999',\n",
      "        'rating': '4.6 out of 5 stars'},\n",
      "    {   'author': 'Phil Knight',\n",
      "        'bookTitle': 'DRM Shoe Dog: A Memoir by Phil Knight (Bookmarks '\n",
      "                     'iincluded)',\n",
      "        'discPrice': '299',\n",
      "        'ogPrice': '499'},\n",
      "    {   'author': 'Phil Knight',\n",
      "        'bookTitle': 'Shoe Dog (Hindi Edition)',\n",
      "        'discPrice': '216.60',\n",
      "        'numReviews': '106',\n",
      "        'rating': '4.5 out of 5 stars'},\n",
      "    {   'author': 'Phil Knight',\n",
      "        'bookTitle': 'Shoe Dog: Young Readers Edition',\n",
      "        'discPrice': '384',\n",
      "        'numReviews': '455',\n",
      "        'ogPrice': '599',\n",
      "        'rating': '4.7 out of 5 stars'},\n",
      "    {   'author': 'Phil Knight',\n",
      "        'bookTitle': 'Shoe Dog: Die offizielle Biografie des NIKE-Gründers '\n",
      "                     '(German Edition)',\n",
      "        'discPrice': '739.50',\n",
      "        'numReviews': '567',\n",
      "        'rating': '4.8 out of 5 stars'}]\n"
     ]
    }
   ],
   "source": [
    "pp.pprint(data_amazon)"
   ]
  }
 ],
 "metadata": {
  "kernelspec": {
   "display_name": "Python 3 (ipykernel)",
   "language": "python",
   "name": "python3"
  },
  "language_info": {
   "codemirror_mode": {
    "name": "ipython",
    "version": 3
   },
   "file_extension": ".py",
   "mimetype": "text/x-python",
   "name": "python",
   "nbconvert_exporter": "python",
   "pygments_lexer": "ipython3",
   "version": "3.9.7"
  }
 },
 "nbformat": 4,
 "nbformat_minor": 5
}
